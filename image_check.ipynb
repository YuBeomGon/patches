{
 "cells": [
  {
   "cell_type": "code",
   "execution_count": 40,
   "id": "1606a359-69eb-4c49-be42-35760eb41655",
   "metadata": {},
   "outputs": [],
   "source": [
    "import sys\n",
    "sys.path.append('../')\n",
    "\n",
    "import os\n",
    "import gc\n",
    "import time\n",
    "import datetime\n",
    "import re\n",
    "from multiprocessing import Process\n",
    "from time import sleep\n",
    "import cv2\n",
    "import glob\n",
    "\n",
    "import large_image\n",
    "import numpy as np\n",
    "import pandas as pd\n",
    "from PIL import Image\n",
    "\n",
    "import matplotlib.pyplot as plt\n",
    "\n",
    "from agent.settings import CONFIG, LOGGER\n",
    "from agent.utils import get_slide_name\n",
    "\n",
    "import albumentations as A\n",
    "import large_image\n",
    "from time import sleep\n",
    "\n",
    "%matplotlib inline"
   ]
  },
  {
   "cell_type": "code",
   "execution_count": 2,
   "id": "be80480d-6adc-49e4-8d07-f047226b1098",
   "metadata": {},
   "outputs": [],
   "source": [
    "# path = '/data/beomgon/Dataset/paps/patch/SC6'\n",
    "# folder_list = os.listdir(path)"
   ]
  },
  {
   "cell_type": "code",
   "execution_count": 32,
   "id": "ae00081f-312b-4b80-adc2-a563f4036ad8",
   "metadata": {},
   "outputs": [],
   "source": [
    "size = 2048\n",
    "def check_abnormal_area(image: np.ndarray):\n",
    "    \n",
    "    gray_img = image[..., 0]\n",
    "    h, w = gray_img.shape\n",
    "    if h != size or w != size:\n",
    "        return False\n",
    "\n",
    "    mask = (gray_img > 70) * (gray_img < 220)\n",
    "    otsu_ratio = mask.sum() / np.multiply(*mask.shape)\n",
    "\n",
    "    if otsu_ratio < 0.045:\n",
    "        del gray_img\n",
    "        del mask\n",
    "        del otsu_ratio\n",
    "        del image\n",
    "\n",
    "        return False\n",
    "\n",
    "    del gray_img\n",
    "    del mask\n",
    "    del otsu_ratio\n",
    "    del image\n",
    "\n",
    "    return True"
   ]
  },
  {
   "cell_type": "code",
   "execution_count": 48,
   "id": "72ed418e-91ab-4bb2-8bc7-6092a5ee3c6b",
   "metadata": {},
   "outputs": [],
   "source": [
    "# path = '/data/beomgon/Dataset/paps/20220405/SC6/LBC2422-20210315.bif'\n",
    "path = '/data/beomgon/Dataset/paps/20220405/SC6/LBC2428-20210419.bif'"
   ]
  },
  {
   "cell_type": "code",
   "execution_count": 49,
   "id": "97b5e1ca-4859-400c-9da9-5cca014fc71d",
   "metadata": {},
   "outputs": [],
   "source": [
    "ts = large_image.getTileSource(path)\n",
    "ts_metadata = ts.getMetadata()\n",
    "magnification = ts_metadata.get(\"magnification\")\n",
    "slide_size = ts_metadata.get(\"sizeX\"), ts_metadata.get(\"sizeY\")"
   ]
  },
  {
   "cell_type": "code",
   "execution_count": 50,
   "id": "376b3ec8-7556-49b8-accb-b3fb71f248cf",
   "metadata": {},
   "outputs": [
    {
     "data": {
      "text/plain": [
       "{'levels': 8,\n",
       " 'sizeX': 90112,\n",
       " 'sizeY': 96256,\n",
       " 'tileWidth': 1024,\n",
       " 'tileHeight': 1024,\n",
       " 'magnification': None,\n",
       " 'mm_x': None,\n",
       " 'mm_y': None}"
      ]
     },
     "execution_count": 50,
     "metadata": {},
     "output_type": "execute_result"
    }
   ],
   "source": [
    "ts_metadata"
   ]
  },
  {
   "cell_type": "code",
   "execution_count": 51,
   "id": "171fbfeb-d74c-4895-ba15-80367c35b03a",
   "metadata": {},
   "outputs": [
    {
     "data": {
      "text/plain": [
       "(90112, 96256)"
      ]
     },
     "execution_count": 51,
     "metadata": {},
     "output_type": "execute_result"
    }
   ],
   "source": [
    "slide_size"
   ]
  },
  {
   "cell_type": "code",
   "execution_count": 52,
   "id": "212302a8-4211-4c8c-b2df-d14560beee8f",
   "metadata": {},
   "outputs": [
    {
     "data": {
      "text/plain": [
       "581"
      ]
     },
     "execution_count": 52,
     "metadata": {},
     "output_type": "execute_result"
    }
   ],
   "source": [
    "position_list[-1]"
   ]
  },
  {
   "cell_type": "code",
   "execution_count": 53,
   "id": "5d41d483-19de-4498-832f-5a5d3d72e545",
   "metadata": {},
   "outputs": [],
   "source": [
    "slide_name, _ = get_slide_name(path)\n",
    "df = pd.DataFrame(\n",
    "    columns=[\n",
    "        \"tile_name\",\n",
    "        \"original_x\",\n",
    "        \"original_y\",\n",
    "        \"magnification\",\n",
    "        \"level\",\n",
    "        \"tile_position\",\n",
    "        \"tile_size\",\n",
    "        \"tile_x\",\n",
    "        \"tile_y\",\n",
    "    ]\n",
    ")\n",
    "position_list = []\n",
    "for tile_info in ts.tileIterator(\n",
    "    scale=dict(magnification=magnification),\n",
    "    tile_size=dict(width=size, height=size),\n",
    "):\n",
    "    # print(type(tile_info))\n",
    "    position_list.append(position)\n",
    "    # sleep(0.01)\n",
    "    tile_image = tile_info[\"tile\"]\n",
    "    position = tile_info[\"tile_position\"][\"position\"]\n",
    "    \n",
    "\n",
    "#     if check_abnormal_area(tile_image):\n",
    "#         tile_name = f\"{slide_name}_{position}.png\"\n",
    "#         df.loc[len(df)] = {\n",
    "#             \"tile_name\": tile_name,\n",
    "#             \"original_x\": slide_size[0],\n",
    "#             \"original_y\": slide_size[1],\n",
    "#             \"magnification\": ts_metadata.get(\"magnification\"),\n",
    "#             \"level\": tile_info[\"level\"],\n",
    "#             \"tile_position\": position,\n",
    "#             \"tile_size\": size,\n",
    "#             \"tile_x\": tile_info[\"x\"],\n",
    "#             \"tile_y\": tile_info[\"y\"],\n",
    "#         }\n"
   ]
  },
  {
   "cell_type": "code",
   "execution_count": null,
   "id": "a4fdbc9f-c3d7-4fe6-a668-b543d6a77517",
   "metadata": {},
   "outputs": [],
   "source": [
    "cannot identify image file <_io.BytesIO object at 0x7ff89f9f6a90>"
   ]
  }
 ],
 "metadata": {
  "kernelspec": {
   "display_name": "patches",
   "language": "python",
   "name": "patches"
  },
  "language_info": {
   "codemirror_mode": {
    "name": "ipython",
    "version": 3
   },
   "file_extension": ".py",
   "mimetype": "text/x-python",
   "name": "python",
   "nbconvert_exporter": "python",
   "pygments_lexer": "ipython3",
   "version": "3.8.13"
  }
 },
 "nbformat": 4,
 "nbformat_minor": 5
}
